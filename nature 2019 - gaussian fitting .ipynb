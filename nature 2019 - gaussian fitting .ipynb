{
 "cells": [
  {
   "cell_type": "code",
   "execution_count": 2,
   "metadata": {
    "run_control": {
     "frozen": false,
     "read_only": false
    }
   },
   "outputs": [],
   "source": [
    "import matplotlib.pyplot as plt\n",
    "import pickle\n",
    "import pandas as pd\n",
    "import numpy as np\n",
    "import scipy.stats as st\n",
    "import random \n",
    "from scipy.optimize import curve_fit\n",
    "import math\n",
    "import time\n",
    "\n",
    "%matplotlib inline "
   ]
  },
  {
   "cell_type": "code",
   "execution_count": 3,
   "metadata": {
    "run_control": {
     "frozen": false,
     "read_only": false
    }
   },
   "outputs": [],
   "source": [
    "# generate sequence logo\n",
    "from weblogolib import LogoData, LogoOptions, read_seq_data, LogoFormat, pdf_formatter, std_color_schemes\n",
    "import weblogolib\n",
    "from wand.image import Image as WImage\n",
    "import os\n",
    "def printWebLogo(array_seqs, title, logofilename = \"logo.pdf\", xaxislabel = \"\", units = \"probability\"):\n",
    "    #inputs:\n",
    "        #array_seqs = list \n",
    "        #title of chart\n",
    "        #units = probability or bits \n",
    "    seqFASTA = open(\"sequences.fasta\", \"w\")\n",
    "    for aa_seq in array_seqs:\n",
    "        seqFASTA.write(aa_seq[5:]+\"-\"+aa_seq[:5]+\"\\n\")\n",
    "    seqFASTA.close()\n",
    "    data  = LogoData.from_seqs(read_seq_data(open(\"sequences.fasta\", \"r\")))\n",
    "    options = LogoOptions()\n",
    "    options.logo_title = title\n",
    "    options.fineprint = xaxislabel\n",
    "    options.size = 'large'\n",
    "    options.unit_name = units\n",
    "    options.color_scheme = weblogolib.std_color_schemes['chemistry']\n",
    "    Format = LogoFormat(data, options)\n",
    "    if logofilename == \"logo.pdf\":\n",
    "        logofilename = title+\".pdf\"\n",
    "    logofile = open(logofilename,'w')\n",
    "    pdf = pdf_formatter(data, Format)\n",
    "    logofile.write(pdf)\n",
    "    logofile.close()\n",
    "    img = WImage(filename=logofilename, resolution = 250)\n",
    "    return img\n",
    "\n",
    "geneticcode = {'ggg':'G', 'gga':'G', 'ggc':'G', 'ggt':'G','gag':'E', 'gaa':'E', 'gac':'D', 'gat':'D','gcg':'A', 'gca':'A', 'gcc':'A', 'gct':'A',\n",
    "               'gtg':'V', 'gta':'V', 'gtc':'V', 'gtt':'V','agg':'R', 'aga':'R', 'agc':'S', 'agt':'S','aag':'K', 'aaa':'K', 'aac':'N', 'aat':'N',\n",
    "               'acg':'T', 'aca':'T', 'acc':'T', 'act':'T','atg':'M', 'ata':'I', 'atc':'I', 'att':'I','cgg':'R', 'cga':'R', 'cgc':'R', 'cgt':'R',\n",
    "               'cag':'Q', 'caa':'Q', 'cac':'H', 'cat':'H','ccg':'P', 'cca':'P', 'ccc':'P', 'cct':'P','ctg':'L', 'cta':'L', 'ctc':'L', 'ctt':'L',\n",
    "               'tgg':'W', 'tga':'*', 'tgc':'C', 'tgt':'C','tag':'*', 'taa':'*', 'tac':'Y', 'tat':'Y','tcg':'S', 'tca':'S', 'tcc':'S', 'tct':'S','ttg':'L', 'tta':'L', 'ttc':'F', 'ttt':'F'}\n",
    "\n",
    "def translateDNA(seq):\n",
    "    #converts DNA to aa seq\n",
    "    i = 0\n",
    "    aa = \"\"\n",
    "    while i <= len(seq)-3:\n",
    "        try:\n",
    "            aa += geneticcode[seq[i:i+3].lower()]\n",
    "        except KeyError:\n",
    "            aa += \"X\"\n",
    "        i +=3\n",
    "    return aa\n",
    "\n",
    "def find_stop_codon(sequence):\n",
    "    i = 0\n",
    "    stops = []\n",
    "    while i <= len(seq)-3:\n",
    "        try:\n",
    "            if \"*\" == geneticcode[seq[i:i+3].lower()]:\n",
    "                stops += [seq[i:i+3]]\n",
    "        except KeyError:\n",
    "            pass\n",
    "        i +=3\n",
    "    return stops\n",
    "\n",
    "def rev_comp(seq):\n",
    "    complement = {'A': 'T', 'C': 'G', 'G': 'C', 'T': 'A','a': 't', 'c': 'g', 'g': 'c', 't': 'a'}\n",
    "    return \"\".join(complement.get(base, base) for base in reversed(seq))\n",
    "\n",
    "def heatmap(mat, filename = 'heatmap.png', labels = False):\n",
    "    #inputs:\n",
    "        #matrix\n",
    "        #labels = tuple(xlabels, ylabels), both lists\n",
    "    fig,ax = plt.subplots()\n",
    "    heatmap = ax.pcolormesh(mat)#,cmap=plt.cm.PRGn)\n",
    "    # want a more natural, table-like display\n",
    "    cbar = plt.colorbar(heatmap)\n",
    "\n",
    "    # put the major ticks at the middle of each cell\n",
    "    ax.set_yticks(np.arange(mat.shape[0]) + 0.5, minor=False)\n",
    "    ax.set_xticks(np.arange(mat.shape[1]) + 0.5, minor=False)\n",
    "\n",
    "    ax.invert_yaxis()\n",
    "#     ax.xaxis.tick_top()\n",
    "    ax.set_xbound(0,mat.shape[1])\n",
    "    ax.set_ybound(0,mat.shape[0])\n",
    "    \n",
    "    if labels:\n",
    "        ax.set_xticklabels(labels[0], minor=False)\n",
    "        ax.set_yticklabels(labels[1], minor=False)\n",
    "    \n",
    "    ax.grid(False)\n",
    "    plt.savefig(filename)\n",
    "    \n",
    "blosum62txt = open('BLOSUM62.txt','r')\n",
    "blosum62dict = {}\n",
    "initialized = 0\n",
    "for line in blosum62txt:\n",
    "    if line[0] == \"#\": continue\n",
    "    else:\n",
    "        if initialized == 0:\n",
    "            aas = line.split()\n",
    "            blosum62dict = dict.fromkeys(aas)\n",
    "            initialized += 1\n",
    "        else:\n",
    "            line = line.split()\n",
    "            blosum62dict[line[0]] = {}\n",
    "            for i in range(len(line)-1):\n",
    "                blosum62dict[line[0]][aas[i]] = int(line[i+1])\n",
    "# print blosum62\n",
    "            \n",
    "def blosum62(seq1,seq2):\n",
    "    #actual blosum scores between two sequences\n",
    "    if len(seq1) != len(seq2):\n",
    "        print \"mismatched lengths\"\n",
    "        raise\n",
    "    blosum_score = 0\n",
    "    for i in range(len(seq1)):\n",
    "        blosum_score +=  blosum62dict[seq1[i]][seq2[i]]\n",
    "    return blosum_score"
   ]
  },
  {
   "cell_type": "code",
   "execution_count": 4,
   "metadata": {
    "run_control": {
     "frozen": false,
     "read_only": false
    }
   },
   "outputs": [],
   "source": [
    "#normalized, thresholded frequencies (of each seq in each bin)\n",
    "ntfreq = np.load(open(\"ntfreq.npy\",\"r\"))\n",
    "#dictionary of DNA seq to index \n",
    "td2i = pickle.load(open(\"td2i.pck\",\"r\"))\n",
    "#thresholded counts (of each seq in each bin)\n",
    "tcounts = np.load(open(\"tcounts.npy\",\"r\"))"
   ]
  },
  {
   "cell_type": "code",
   "execution_count": null,
   "metadata": {
    "collapsed": true,
    "run_control": {
     "frozen": false,
     "read_only": false
    }
   },
   "outputs": [],
   "source": []
  },
  {
   "cell_type": "code",
   "execution_count": null,
   "metadata": {
    "collapsed": true,
    "run_control": {
     "frozen": false,
     "read_only": false
    }
   },
   "outputs": [],
   "source": []
  },
  {
   "cell_type": "code",
   "execution_count": 5,
   "metadata": {
    "run_control": {
     "frozen": false,
     "read_only": false
    }
   },
   "outputs": [],
   "source": [
    "\n",
    "#log10(YFP) geo means of the sorted bins:\n",
    "x1 = np.array([1.76,2.19,2.62,3.05,3.48,3.91,4.34,4.77])\n",
    "\n",
    "#Gaussian fitting function\n",
    "def fit_gauss(sequence, title = False, \n",
    "              plot = False,              #plot double bar graph, with fitted Gaussian overlay\n",
    "              report_error = False,      #return error parameters from fitting\n",
    "              mode_norm = True,          #normalize plot, so bar graphs have equal y-max\n",
    "              plot_reps = False):        \n",
    "    #inputs seq\n",
    "    ind = td2i[sequence]\n",
    "    #extract normalized reads for query seq\n",
    "    a = np.zeros((3,16))\n",
    "    for rep in range(3):\n",
    "        a[rep,:8] = ntfreq[ind][1+rep*8:9+rep*8]\n",
    "        a[rep,8:] = ntfreq[ind][25+rep*8:33+rep*8]\n",
    "    \n",
    "    #calculate mean reads/bin\n",
    "    y1 = np.mean(a,axis = 0)[:8]\n",
    "    y2 = np.mean(a,axis = 0)[8:]\n",
    "    \n",
    "    #plot replicates separately\n",
    "    if plot_reps:\n",
    "        plt.plot(a[:,:8].T, \"b\")\n",
    "        plt.plot(a[:,8:].T,\"r\")\n",
    "        plt.plot(y1, \"b-\", linestyle = \"dashed\",label = \"ON\")\n",
    "        plt.plot(y2,\"r-\", linestyle = \"dashed\",label = \"OFF\")\n",
    "        plt.legend()\n",
    "        plt.figure()\n",
    "    \n",
    "    #if data is missing from one or both states, fail\n",
    "    if y1.sum() ==0 or y2.sum() == 0:\n",
    "        raise RuntimeError\n",
    "    yerr1 = np.std(a,axis = 0,dtype=np.float64)[:8]\n",
    "    yerr2 = np.std(a,axis = 0,dtype=np.float64)[8:]\n",
    "    \n",
    "    #add pseudocount to ensure no error value is 0\n",
    "    pseudoc = 5e-7\n",
    "    yerr1 = yerr1 + pseudoc\n",
    "    yerr2 = yerr2 + pseudoc\n",
    "    \n",
    "    \n",
    "    #scale both distributions together, for visually comparing distributions\n",
    "    if mode_norm:\n",
    "        yerr2 = np.array(map(lambda x: x * (max(y1)/max(y2)), yerr2))\n",
    "        y2 = np.array(map(lambda x: x * (max(y1)/max(y2)), y2))\n",
    "    \n",
    "    failed = False\n",
    "    \n",
    "    #fit Gaussian for first condition\n",
    "    def gaus_fixed_a1(x,*param):\n",
    "        x0,ymax,sigma = param\n",
    "        return ymax*np.exp(-(x-x0)**2/sigma*2)\n",
    "    \n",
    "    mean = x1.dot(y1**2) / (y1**2).sum()\n",
    "    guess = [mean,max(y1), 0.2] \n",
    "    popt1,pcov1 = curve_fit(gaus_fixed_a1,x1,y1, sigma = yerr1,absolute_sigma=True, p0 = guess)\n",
    "    perr1 = np.sqrt(np.diag(pcov1))\n",
    "    if popt1[0] < x1[0]-0.2 or popt1[0] > x1[-1]+0.2:\n",
    "        failed = True\n",
    "    \n",
    "    #fit Gaussian for second condition\n",
    "    def gaus_fixed_a2(x,*param):\n",
    "        x0,ymax,sigma = param\n",
    "        return ymax*np.exp(-(x-x0)**2/sigma*2)\n",
    "    \n",
    "    mean = x1.dot(y2**2) / (y2**2).sum()\n",
    "    guess = [mean,max(y2),0.2]\n",
    "    \n",
    "    popt2,pcov2 = curve_fit(gaus_fixed_a2,x1,y2, sigma = yerr2,absolute_sigma=True, p0 = guess)\n",
    "    perr2 = np.sqrt(np.diag(pcov2))\n",
    "    if popt2[0] < x1[0]-0.2 or popt2[0] > x1[-1]+0.2:\n",
    "        failed = True\n",
    "        \n",
    "    #if fitting failed for either condition, RuntimeError\n",
    "    if failed:\n",
    "        raise RuntimeError\n",
    "        \n",
    "    u_on,u_off = popt1[0],popt2[0]\n",
    "    fold_ind = 10**(u_on-u_off)\n",
    "    \n",
    "    #plot double bar graph\n",
    "    if plot:\n",
    "        plt.axvspan(popt1[0],popt2[0], facecolor='g',alpha = 0.1)\n",
    "        opacity = 0.3\n",
    "        error_config = {'ecolor': '0.3'}\n",
    "        x_offset = map( lambda x: x-0.0, x1)\n",
    "        rects1 = plt.bar(x_offset,y1,.43,color='b',yerr = yerr1,\n",
    "                    error_kw=error_config,alpha=opacity, label = \"ON\")\n",
    "        rects2 = plt.bar(x_offset,y2,.43,color='r',yerr = yerr2,\n",
    "                    error_kw=error_config,alpha=opacity, label = \"OFF\")\n",
    "\n",
    "        plt.plot(np.arange(min(x1)-1, max(x1)+1, 0.1),gaus_fixed_a1(np.arange(min(x1)-1, max(x1)+1, 0.1),*popt1),'b', alpha = 0.8)\n",
    "        plt.plot(np.arange(min(x1)-1, max(x1)+1, 0.1),gaus_fixed_a2(np.arange(min(x1)-1, max(x1)+1, 0.1),*popt2), 'r', alpha = 0.8)\n",
    "        plt.ylabel(\"frequency in gate\")\n",
    "        plt.xlabel(\"log10( YFP )\")\n",
    "        plt.legend(loc = 2)\n",
    "        plt.ylim([0,1.1*max(max(yerr1+y1) , max(yerr2+y2))])\n",
    "        if not title:\n",
    "            title = translateDNA(sequence)[5:]+\" / \"+translateDNA(sequence)[:5]\n",
    "        plt.title(title+\" - %0.1f fold ind\" % fold_ind )\n",
    "        plt.savefig(\"gaussfit_graphs/gaussfit_\"+translateDNA(sequence) +\"_\"+sequence+ \".pdf\")\n",
    "        plt.figure()\n",
    "    if report_error:\n",
    "        return u_on,u_off,perr1,perr2\n",
    "    else:\n",
    "        return u_on,u_off\n",
    "    "
   ]
  },
  {
   "cell_type": "code",
   "execution_count": 6,
   "metadata": {
    "run_control": {
     "frozen": false,
     "read_only": false
    }
   },
   "outputs": [
    {
     "name": "stdout",
     "output_type": "stream",
     "text": [
      "(3.8604953803690365, 2.560067764434702, array([0.03873388, 0.00051416, 0.05682916]), array([0.00801164, 0.00017635, 0.01417173]))\n"
     ]
    },
    {
     "data": {
      "image/png": "[encoded data removed]",
      "text/plain": [
       "<Figure size 432x288 with 1 Axes>"
      ]
     },
     "metadata": {
      "needs_background": "light"
     },
     "output_type": "display_data"
    },
    {
     "data": {
      "text/plain": [
       "<Figure size 432x288 with 0 Axes>"
      ]
     },
     "metadata": {},
     "output_type": "display_data"
    }
   ],
   "source": [
    "#example plot (wild type sequence)\n",
    "s = \"TTACACCACGTTCAGGCGAGTACGTCTGATGCT\"\n",
    "print fit_gauss(s,report_error=True, plot=True, mode_norm=0, plot_reps = False )"
   ]
  },
  {
   "cell_type": "code",
   "execution_count": 10,
   "metadata": {
    "run_control": {
     "frozen": false,
     "read_only": false
    }
   },
   "outputs": [],
   "source": [
    "#sorting all sequences by total frequency (across all bins)\n",
    "seqs_sorted = sorted(td2i.keys(), key = lambda x: ntfreq[td2i[x]][:49].sum(), reverse = True)"
   ]
  },
  {
   "cell_type": "code",
   "execution_count": 11,
   "metadata": {
    "run_control": {
     "frozen": false,
     "read_only": false
    }
   },
   "outputs": [
    {
     "name": "stdout",
     "output_type": "stream",
     "text": [
      "3611 WT RR, 2889 WT HK\n"
     ]
    }
   ],
   "source": [
    "#sequences with WT RR or HK \n",
    "wt_rr = []\n",
    "for s in seqs_sorted:\n",
    "    if translateDNA(s)[:5] == \"LHHVQ\":\n",
    "        wt_rr += [s]\n",
    "wt_hk = []\n",
    "for s in seqs_sorted:\n",
    "    if translateDNA(s)[5:] == \"ASTSDA\":\n",
    "        wt_hk += [s]\n",
    "print len(wt_rr), \"WT RR,\", len(wt_hk), \"WT HK\""
   ]
  },
  {
   "cell_type": "code",
   "execution_count": 12,
   "metadata": {
    "collapsed": true,
    "run_control": {
     "frozen": false,
     "read_only": false
    }
   },
   "outputs": [],
   "source": [
    "# # guassian fitting all sequences, saving to CSV\n",
    "\n",
    "# # can take ~1hr\n",
    "\n",
    "# starttime = time.time()\n",
    "# count = 0\n",
    "# handle = open(\"gauss_fitted_means_20180430.csv\",'w')\n",
    "# for s in seqs_sorted:\n",
    "#     try:\n",
    "#         logu_on,logu_off,perr1, perr2= fit_gauss(s, report_error= True)\n",
    "#         ind = td2i[s]\n",
    "#         on_counts = tcounts[ind][1:25].sum()\n",
    "#         off_counts = tcounts[ind][25:49].sum()\n",
    "        \n",
    "#         #guassian mean estimates\n",
    "#         u_on = 10**logu_on\n",
    "#         u_off = 10**logu_off\n",
    "        \n",
    "#         #stdev of guassian mean estimates (from curve_Fit)\n",
    "#         std_on = perr1[0] * u_on/logu_on\n",
    "#         std_off = perr2[0] * u_off/logu_off\n",
    "        \n",
    "#         #fold induction\n",
    "#         fi = u_on/u_off\n",
    "        \n",
    "#         handle.write(s+\",\"+translateDNA(s)+\",\"\n",
    "#                      +str(on_counts)+\",\"+str(off_counts)+\",\"\n",
    "#                      +str(u_on)+\",\"+str(u_off)+\",\"\n",
    "#                      +str(std_on)+\",\"+str(std_off)+\",\"+str(fi)+\",\"\n",
    "#                      +str(perr1[0])+\",\"+str(perr2[0] )+\"\\n\")\n",
    "#     except RuntimeError:\n",
    "#         pass\n",
    "#     count += 1\n",
    "#     if count%10000 == 0:\n",
    "#         print round((time.time()-starttime)/60,2),\"min\\t\", str(count),\"seqs done\"\n",
    "# print \"complete\""
   ]
  },
  {
   "cell_type": "code",
   "execution_count": 27,
   "metadata": {
    "run_control": {
     "frozen": false,
     "read_only": false
    }
   },
   "outputs": [],
   "source": [
    "#loads CSV from above calculations into panda DataFrame\n",
    "    #aa = amino acid seq\n",
    "    #c_on = total counts in gates in ON conditions (10uM Mg)\n",
    "    #c_off = total counts in gates in OFF conditions (50mM Mg)\n",
    "    #u_on = guass fit mean in on condition\n",
    "    #u_off = guass fit mean in off condition\n",
    "    #std_u_on, std_u_off = std devs of fitted means, spit out of guass fit\n",
    "    #fi = fold induction\n",
    "    \n",
    "\n",
    "\n",
    "#pandas: a great package of datastructures built on numpy (matlab efficient matricies)\n",
    "#DataFrames: matrices with labeled columns and rows, can hold strings as wells as values\n",
    "df = pd.read_csv('gauss_fitted_means_20180430.csv',names=['aa','c_on','c_off','u_on','u_off','std_u_on','std_u_off','fi', \"error_on\", \"error_off\"])"
   ]
  },
  {
   "cell_type": "code",
   "execution_count": 28,
   "metadata": {
    "run_control": {
     "frozen": false,
     "read_only": false
    }
   },
   "outputs": [
    {
     "name": "stdout",
     "output_type": "stream",
     "text": [
      "79999 seqs before error filtering\n",
      "13383 seqs after error filtering\n"
     ]
    }
   ],
   "source": [
    "print len(df), \"seqs before error filtering\"\n",
    "df = df[df.error_off + df.error_on < 2]\n",
    "print len(df), \"seqs after error filtering\"\n"
   ]
  }
 ],
 "metadata": {
  "kernelspec": {
   "display_name": "Python 2",
   "language": "python",
   "name": "python2"
  },
  "language_info": {
   "codemirror_mode": {
    "name": "ipython",
    "version": 2
   },
   "file_extension": ".py",
   "mimetype": "text/x-python",
   "name": "python",
   "nbconvert_exporter": "python",
   "pygments_lexer": "ipython2",
   "version": "2.7.6"
  }
 },
 "nbformat": 4,
 "nbformat_minor": 1
}
